{
 "cells": [
  {
   "cell_type": "code",
   "execution_count": 17,
   "metadata": {
    "collapsed": true
   },
   "outputs": [],
   "source": [
    "import pandas as pd\n",
    "from datetime import datetime, timedelta\n",
    "import time"
   ]
  },
  {
   "cell_type": "code",
   "execution_count": 2,
   "metadata": {
    "collapsed": true
   },
   "outputs": [],
   "source": [
    "path = 'E:/Study/data/drop.csv'"
   ]
  },
  {
   "cell_type": "code",
   "execution_count": 7,
   "metadata": {
    "collapsed": true
   },
   "outputs": [],
   "source": [
    "columns = ['n_transfer', 'start_time', 'bus', 'subway', 'rer', 'tramway', 't_trip', 't_sep','day_start','day_end']"
   ]
  },
  {
   "cell_type": "code",
   "execution_count": 14,
   "metadata": {
    "collapsed": true
   },
   "outputs": [],
   "source": [
    "def get_counts(anything):\n",
    "    counts = {}\n",
    "    for a in anything:\n",
    "        if a in counts:\n",
    "            counts[a] = counts[a] + 1\n",
    "        else:\n",
    "            counts[a] = 1\n",
    "    return counts"
   ]
  },
  {
   "cell_type": "code",
   "execution_count": 8,
   "metadata": {
    "collapsed": true
   },
   "outputs": [],
   "source": [
    "def change_Ot_time(data):\n",
    "    return timedelta(hours=int(data['Ot'][6:9]) , minutes = int(data['Ot'][10:12]), seconds = int(data['Ot'][13:15]))\n",
    "def change_Dt_time(data):\n",
    "    if pd.isnull(data['Dt']):\n",
    "        return timedelta(seconds = 0)\n",
    "    else:\n",
    "        return timedelta(hours=int(data['Dt'][6:9]) , minutes = int(data['Dt'][10:12]), seconds = int(data['Dt'][13:15]))"
   ]
  },
  {
   "cell_type": "code",
   "execution_count": 9,
   "metadata": {
    "collapsed": true
   },
   "outputs": [],
   "source": [
    "def get_time_sep(data):\n",
    "    day_start = data.iloc[0]['Ot'].seconds\n",
    "    day_end = data.iloc[len(data)-1]['Dt'].seconds\n",
    "    rer = 0\n",
    "    bus = 0\n",
    "    subway = 0\n",
    "    tramway = 0\n",
    "    n_transfer = 1\n",
    "    t_trip = 0\n",
    "    trip_id = 0\n",
    "    results = pd.DataFrame(columns=columns)\n",
    "    t_end = data.iloc[0]['Dt'].seconds\n",
    "    t_start = data.iloc[0]['Ot'].seconds\n",
    "    for i in range(1,len(data)):\n",
    "        mode = data.iloc[i-1]['O_mode']\n",
    "        if mode == 1:\n",
    "            rer = rer + 1\n",
    "        elif mode == 2:\n",
    "            bus = bus + 1\n",
    "        elif mode == 3:\n",
    "            subway = subway + 1\n",
    "        else:\n",
    "            tramway = tramway + 1\n",
    "        t_first = data.iloc[i-1]['Dt'].seconds\n",
    "        t_second = data.iloc[i]['Ot'].seconds\n",
    "        sep_time = t_second - t_first\n",
    "        if sep_time<3600:\n",
    "            t_end = data.iloc[i]['Dt'].seconds\n",
    "            n_transfer = n_transfer + 1\n",
    "        else:\n",
    "            results.loc[trip_id] = [n_transfer, t_start, bus, subway, rer, tramway, (t_end - t_start), sep_time,day_start,day_end]\n",
    "            t_start = data.iloc[i]['Ot'].seconds\n",
    "            t_end = data.iloc[i]['Dt'].seconds\n",
    "            rer = 0\n",
    "            bus = 0\n",
    "            subway = 0\n",
    "            tramway = 0\n",
    "            n_transfer =1\n",
    "            trip_id = trip_id + 1\n",
    "    return results"
   ]
  },
  {
   "cell_type": "code",
   "execution_count": 3,
   "metadata": {
    "collapsed": true
   },
   "outputs": [],
   "source": [
    "results = pd.read_csv(path, header=0)"
   ]
  },
  {
   "cell_type": "code",
   "execution_count": 13,
   "metadata": {},
   "outputs": [],
   "source": [
    "results['Ot'] = results.apply(change_Ot_time, axis=1)\n",
    "results['Dt'] = results.apply(change_Dt_time, axis=1)"
   ]
  },
  {
   "cell_type": "code",
   "execution_count": 15,
   "metadata": {},
   "outputs": [],
   "source": [
    "id_s = [a[0] for a in get_counts(results['client_id']).items()]"
   ]
  },
  {
   "cell_type": "code",
   "execution_count": 22,
   "metadata": {},
   "outputs": [
    {
     "data": {
      "text/plain": [
       "217678"
      ]
     },
     "execution_count": 22,
     "metadata": {},
     "output_type": "execute_result"
    }
   ],
   "source": [
    "len(id_s)"
   ]
  },
  {
   "cell_type": "code",
   "execution_count": 24,
   "metadata": {},
   "outputs": [],
   "source": [
    "m_results = pd.DataFrame()\n",
    "test = id_s[200000:]\n",
    "for a in test:\n",
    "    data = results[results['client_id'] == a]\n",
    "    m_results = m_results.append(get_time_sep(data), ignore_index =True)\n",
    "m_results.to_csv('E:/Study/data/final_data_5.csv', index=False)  "
   ]
  }
 ],
 "metadata": {
  "kernelspec": {
   "display_name": "Python 3",
   "language": "python",
   "name": "python3"
  },
  "language_info": {
   "codemirror_mode": {
    "name": "ipython",
    "version": 3
   },
   "file_extension": ".py",
   "mimetype": "text/x-python",
   "name": "python",
   "nbconvert_exporter": "python",
   "pygments_lexer": "ipython3",
   "version": "3.6.3"
  }
 },
 "nbformat": 4,
 "nbformat_minor": 2
}
