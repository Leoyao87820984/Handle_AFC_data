{
 "cells": [
  {
   "cell_type": "code",
   "execution_count": 1,
   "metadata": {
    "collapsed": true
   },
   "outputs": [],
   "source": [
    "import matplotlib.pyplot as plt\n",
    "import numpy as np\n",
    "import pandas as pd\n",
    "from sklearn.cluster import KMeans\n",
    "from sklearn import preprocessing\n",
    "import seaborn as sns\n",
    "from sklearn.decomposition import PCA\n",
    "from sklearn import metrics"
   ]
  },
  {
   "cell_type": "code",
   "execution_count": 3,
   "metadata": {
    "collapsed": true
   },
   "outputs": [],
   "source": [
    "colors = 10*[\"g\", \"r\", \"c\", \"b\",\"k\"]"
   ]
  },
  {
   "cell_type": "code",
   "execution_count": 4,
   "metadata": {
    "collapsed": true
   },
   "outputs": [],
   "source": [
    "def get_counts(anything):\n",
    "    counts = {}\n",
    "    for a in anything:\n",
    "        if a in counts:\n",
    "            counts[a] = counts[a] + 1\n",
    "        else:\n",
    "            counts[a] = 1\n",
    "    return counts\n"
   ]
  },
  {
   "cell_type": "code",
   "execution_count": 5,
   "metadata": {
    "collapsed": true
   },
   "outputs": [],
   "source": [
    "def get_bar_dic(data,n,data_mean):\n",
    "    bar_dic = {}\n",
    "    for i in range(n):\n",
    "        bar_dic[data_mean.index[i]] = ((data[i] - data_mean[i])/data_mean[i])*100\n",
    "    return bar_dic"
   ]
  },
  {
   "cell_type": "code",
   "execution_count": 6,
   "metadata": {
    "collapsed": true
   },
   "outputs": [],
   "source": [
    "def get_best_k(data,max_k):\n",
    "    max_value = 0\n",
    "    final_k = 2\n",
    "    for k in range(2,max_k+1):\n",
    "        temp = KMeans(n_clusters=k).fit_predict(data)\n",
    "        value = metrics.calinski_harabaz_score(data, temp)\n",
    "        if value > max_value:\n",
    "            max_value = value\n",
    "            final_k = k\n",
    "    return final_k"
   ]
  },
  {
   "cell_type": "code",
   "execution_count": 7,
   "metadata": {
    "collapsed": true
   },
   "outputs": [],
   "source": [
    "test = pd.read_csv('E:/Study/data/final_data_1.csv')\n",
    "test_1 = pd.read_csv('E:/Study/data/final_data_2.csv')\n",
    "test_2 = pd.read_csv('E:/Study/data/final_data_3.csv')\n",
    "test_3 = pd.read_csv('E:/Study/data/final_data_4.csv')\n",
    "test_4 = pd.read_csv('E:/Study/data/final_data_5.csv')"
   ]
  },
  {
   "cell_type": "code",
   "execution_count": 8,
   "metadata": {
    "collapsed": true
   },
   "outputs": [],
   "source": [
    "data = pd.concat([test,test_1, test_2, test_3, test_4], ignore_index=True)"
   ]
  },
  {
   "cell_type": "code",
   "execution_count": 9,
   "metadata": {},
   "outputs": [
    {
     "data": {
      "text/html": [
       "<div>\n",
       "<style>\n",
       "    .dataframe thead tr:only-child th {\n",
       "        text-align: right;\n",
       "    }\n",
       "\n",
       "    .dataframe thead th {\n",
       "        text-align: left;\n",
       "    }\n",
       "\n",
       "    .dataframe tbody tr th {\n",
       "        vertical-align: top;\n",
       "    }\n",
       "</style>\n",
       "<table border=\"1\" class=\"dataframe\">\n",
       "  <thead>\n",
       "    <tr style=\"text-align: right;\">\n",
       "      <th></th>\n",
       "      <th>n_transfer</th>\n",
       "      <th>start_time</th>\n",
       "      <th>bus</th>\n",
       "      <th>subway</th>\n",
       "      <th>rer</th>\n",
       "      <th>tramway</th>\n",
       "      <th>t_trip</th>\n",
       "      <th>t_sep</th>\n",
       "      <th>day_start</th>\n",
       "      <th>day_end</th>\n",
       "    </tr>\n",
       "  </thead>\n",
       "  <tbody>\n",
       "    <tr>\n",
       "      <th>count</th>\n",
       "      <td>131996.000000</td>\n",
       "      <td>131996.000000</td>\n",
       "      <td>131996.000000</td>\n",
       "      <td>131996.000000</td>\n",
       "      <td>131996.000000</td>\n",
       "      <td>131996.000000</td>\n",
       "      <td>131996.000000</td>\n",
       "      <td>131996.000000</td>\n",
       "      <td>131996.000000</td>\n",
       "      <td>131996.000000</td>\n",
       "    </tr>\n",
       "    <tr>\n",
       "      <th>mean</th>\n",
       "      <td>1.313320</td>\n",
       "      <td>36134.890360</td>\n",
       "      <td>0.380193</td>\n",
       "      <td>0.626958</td>\n",
       "      <td>0.265213</td>\n",
       "      <td>0.040956</td>\n",
       "      <td>1695.590253</td>\n",
       "      <td>25026.832806</td>\n",
       "      <td>32666.612655</td>\n",
       "      <td>66312.764652</td>\n",
       "    </tr>\n",
       "    <tr>\n",
       "      <th>std</th>\n",
       "      <td>0.635091</td>\n",
       "      <td>12404.276959</td>\n",
       "      <td>0.590506</td>\n",
       "      <td>0.539928</td>\n",
       "      <td>0.471617</td>\n",
       "      <td>0.210821</td>\n",
       "      <td>1949.229267</td>\n",
       "      <td>11928.843466</td>\n",
       "      <td>9546.888534</td>\n",
       "      <td>10687.249383</td>\n",
       "    </tr>\n",
       "    <tr>\n",
       "      <th>min</th>\n",
       "      <td>1.000000</td>\n",
       "      <td>0.000000</td>\n",
       "      <td>0.000000</td>\n",
       "      <td>0.000000</td>\n",
       "      <td>0.000000</td>\n",
       "      <td>0.000000</td>\n",
       "      <td>-85488.000000</td>\n",
       "      <td>3600.000000</td>\n",
       "      <td>0.000000</td>\n",
       "      <td>0.000000</td>\n",
       "    </tr>\n",
       "    <tr>\n",
       "      <th>25%</th>\n",
       "      <td>1.000000</td>\n",
       "      <td>28440.000000</td>\n",
       "      <td>0.000000</td>\n",
       "      <td>0.000000</td>\n",
       "      <td>0.000000</td>\n",
       "      <td>0.000000</td>\n",
       "      <td>691.000000</td>\n",
       "      <td>13560.000000</td>\n",
       "      <td>27904.000000</td>\n",
       "      <td>62233.000000</td>\n",
       "    </tr>\n",
       "    <tr>\n",
       "      <th>50%</th>\n",
       "      <td>1.000000</td>\n",
       "      <td>31662.000000</td>\n",
       "      <td>0.000000</td>\n",
       "      <td>1.000000</td>\n",
       "      <td>0.000000</td>\n",
       "      <td>0.000000</td>\n",
       "      <td>1216.000000</td>\n",
       "      <td>28815.000000</td>\n",
       "      <td>30780.000000</td>\n",
       "      <td>67075.000000</td>\n",
       "    </tr>\n",
       "    <tr>\n",
       "      <th>75%</th>\n",
       "      <td>1.000000</td>\n",
       "      <td>41786.000000</td>\n",
       "      <td>1.000000</td>\n",
       "      <td>1.000000</td>\n",
       "      <td>1.000000</td>\n",
       "      <td>0.000000</td>\n",
       "      <td>2152.000000</td>\n",
       "      <td>33897.000000</td>\n",
       "      <td>34556.250000</td>\n",
       "      <td>72044.000000</td>\n",
       "    </tr>\n",
       "    <tr>\n",
       "      <th>max</th>\n",
       "      <td>6.000000</td>\n",
       "      <td>85886.000000</td>\n",
       "      <td>6.000000</td>\n",
       "      <td>6.000000</td>\n",
       "      <td>4.000000</td>\n",
       "      <td>5.000000</td>\n",
       "      <td>40933.000000</td>\n",
       "      <td>86300.000000</td>\n",
       "      <td>83156.000000</td>\n",
       "      <td>86398.000000</td>\n",
       "    </tr>\n",
       "  </tbody>\n",
       "</table>\n",
       "</div>"
      ],
      "text/plain": [
       "          n_transfer     start_time            bus         subway  \\\n",
       "count  131996.000000  131996.000000  131996.000000  131996.000000   \n",
       "mean        1.313320   36134.890360       0.380193       0.626958   \n",
       "std         0.635091   12404.276959       0.590506       0.539928   \n",
       "min         1.000000       0.000000       0.000000       0.000000   \n",
       "25%         1.000000   28440.000000       0.000000       0.000000   \n",
       "50%         1.000000   31662.000000       0.000000       1.000000   \n",
       "75%         1.000000   41786.000000       1.000000       1.000000   \n",
       "max         6.000000   85886.000000       6.000000       6.000000   \n",
       "\n",
       "                 rer        tramway         t_trip          t_sep  \\\n",
       "count  131996.000000  131996.000000  131996.000000  131996.000000   \n",
       "mean        0.265213       0.040956    1695.590253   25026.832806   \n",
       "std         0.471617       0.210821    1949.229267   11928.843466   \n",
       "min         0.000000       0.000000  -85488.000000    3600.000000   \n",
       "25%         0.000000       0.000000     691.000000   13560.000000   \n",
       "50%         0.000000       0.000000    1216.000000   28815.000000   \n",
       "75%         1.000000       0.000000    2152.000000   33897.000000   \n",
       "max         4.000000       5.000000   40933.000000   86300.000000   \n",
       "\n",
       "           day_start        day_end  \n",
       "count  131996.000000  131996.000000  \n",
       "mean    32666.612655   66312.764652  \n",
       "std      9546.888534   10687.249383  \n",
       "min         0.000000       0.000000  \n",
       "25%     27904.000000   62233.000000  \n",
       "50%     30780.000000   67075.000000  \n",
       "75%     34556.250000   72044.000000  \n",
       "max     83156.000000   86398.000000  "
      ]
     },
     "execution_count": 9,
     "metadata": {},
     "output_type": "execute_result"
    }
   ],
   "source": [
    "data.describe()"
   ]
  },
  {
   "cell_type": "code",
   "execution_count": 10,
   "metadata": {
    "collapsed": true
   },
   "outputs": [],
   "source": [
    "drop_result = data.drop(data.columns[[0,2,3,4,5,8,9]], axis=1)"
   ]
  },
  {
   "cell_type": "code",
   "execution_count": 12,
   "metadata": {
    "collapsed": true
   },
   "outputs": [
    {
     "data": {
      "text/html": [
       "<div>\n",
       "<style>\n",
       "    .dataframe thead tr:only-child th {\n",
       "        text-align: right;\n",
       "    }\n",
       "\n",
       "    .dataframe thead th {\n",
       "        text-align: left;\n",
       "    }\n",
       "\n",
       "    .dataframe tbody tr th {\n",
       "        vertical-align: top;\n",
       "    }\n",
       "</style>\n",
       "<table border=\"1\" class=\"dataframe\">\n",
       "  <thead>\n",
       "    <tr style=\"text-align: right;\">\n",
       "      <th></th>\n",
       "      <th>start_time</th>\n",
       "      <th>t_trip</th>\n",
       "      <th>t_sep</th>\n",
       "    </tr>\n",
       "  </thead>\n",
       "  <tbody>\n",
       "    <tr>\n",
       "      <th>0</th>\n",
       "      <td>31080</td>\n",
       "      <td>2845</td>\n",
       "      <td>27935</td>\n",
       "    </tr>\n",
       "    <tr>\n",
       "      <th>1</th>\n",
       "      <td>27188</td>\n",
       "      <td>788</td>\n",
       "      <td>31234</td>\n",
       "    </tr>\n",
       "    <tr>\n",
       "      <th>2</th>\n",
       "      <td>597</td>\n",
       "      <td>1446</td>\n",
       "      <td>53341</td>\n",
       "    </tr>\n",
       "    <tr>\n",
       "      <th>3</th>\n",
       "      <td>33647</td>\n",
       "      <td>393</td>\n",
       "      <td>14728</td>\n",
       "    </tr>\n",
       "    <tr>\n",
       "      <th>4</th>\n",
       "      <td>24196</td>\n",
       "      <td>4156</td>\n",
       "      <td>29122</td>\n",
       "    </tr>\n",
       "    <tr>\n",
       "      <th>5</th>\n",
       "      <td>27924</td>\n",
       "      <td>1589</td>\n",
       "      <td>32499</td>\n",
       "    </tr>\n",
       "    <tr>\n",
       "      <th>6</th>\n",
       "      <td>32222</td>\n",
       "      <td>2370</td>\n",
       "      <td>34310</td>\n",
       "    </tr>\n",
       "    <tr>\n",
       "      <th>7</th>\n",
       "      <td>26032</td>\n",
       "      <td>1517</td>\n",
       "      <td>35975</td>\n",
       "    </tr>\n",
       "    <tr>\n",
       "      <th>8</th>\n",
       "      <td>27496</td>\n",
       "      <td>2175</td>\n",
       "      <td>33938</td>\n",
       "    </tr>\n",
       "    <tr>\n",
       "      <th>9</th>\n",
       "      <td>31828</td>\n",
       "      <td>1364</td>\n",
       "      <td>34310</td>\n",
       "    </tr>\n",
       "    <tr>\n",
       "      <th>10</th>\n",
       "      <td>28965</td>\n",
       "      <td>500</td>\n",
       "      <td>44293</td>\n",
       "    </tr>\n",
       "    <tr>\n",
       "      <th>11</th>\n",
       "      <td>28800</td>\n",
       "      <td>801</td>\n",
       "      <td>32619</td>\n",
       "    </tr>\n",
       "    <tr>\n",
       "      <th>12</th>\n",
       "      <td>30249</td>\n",
       "      <td>3861</td>\n",
       "      <td>36545</td>\n",
       "    </tr>\n",
       "    <tr>\n",
       "      <th>13</th>\n",
       "      <td>22490</td>\n",
       "      <td>275</td>\n",
       "      <td>32939</td>\n",
       "    </tr>\n",
       "    <tr>\n",
       "      <th>14</th>\n",
       "      <td>31920</td>\n",
       "      <td>1040</td>\n",
       "      <td>27640</td>\n",
       "    </tr>\n",
       "    <tr>\n",
       "      <th>15</th>\n",
       "      <td>25811</td>\n",
       "      <td>1020</td>\n",
       "      <td>38796</td>\n",
       "    </tr>\n",
       "    <tr>\n",
       "      <th>16</th>\n",
       "      <td>31393</td>\n",
       "      <td>1118</td>\n",
       "      <td>31757</td>\n",
       "    </tr>\n",
       "    <tr>\n",
       "      <th>17</th>\n",
       "      <td>33162</td>\n",
       "      <td>1590</td>\n",
       "      <td>37767</td>\n",
       "    </tr>\n",
       "    <tr>\n",
       "      <th>18</th>\n",
       "      <td>38425</td>\n",
       "      <td>1545</td>\n",
       "      <td>25835</td>\n",
       "    </tr>\n",
       "    <tr>\n",
       "      <th>19</th>\n",
       "      <td>27660</td>\n",
       "      <td>730</td>\n",
       "      <td>27350</td>\n",
       "    </tr>\n",
       "    <tr>\n",
       "      <th>20</th>\n",
       "      <td>27840</td>\n",
       "      <td>904</td>\n",
       "      <td>35216</td>\n",
       "    </tr>\n",
       "    <tr>\n",
       "      <th>21</th>\n",
       "      <td>34200</td>\n",
       "      <td>790</td>\n",
       "      <td>31816</td>\n",
       "    </tr>\n",
       "    <tr>\n",
       "      <th>22</th>\n",
       "      <td>24852</td>\n",
       "      <td>1428</td>\n",
       "      <td>34950</td>\n",
       "    </tr>\n",
       "    <tr>\n",
       "      <th>23</th>\n",
       "      <td>38100</td>\n",
       "      <td>2124</td>\n",
       "      <td>28356</td>\n",
       "    </tr>\n",
       "    <tr>\n",
       "      <th>24</th>\n",
       "      <td>40226</td>\n",
       "      <td>714</td>\n",
       "      <td>12974</td>\n",
       "    </tr>\n",
       "    <tr>\n",
       "      <th>25</th>\n",
       "      <td>31068</td>\n",
       "      <td>1033</td>\n",
       "      <td>38204</td>\n",
       "    </tr>\n",
       "    <tr>\n",
       "      <th>26</th>\n",
       "      <td>27050</td>\n",
       "      <td>1588</td>\n",
       "      <td>27804</td>\n",
       "    </tr>\n",
       "    <tr>\n",
       "      <th>27</th>\n",
       "      <td>31433</td>\n",
       "      <td>2073</td>\n",
       "      <td>31801</td>\n",
       "    </tr>\n",
       "    <tr>\n",
       "      <th>28</th>\n",
       "      <td>34002</td>\n",
       "      <td>1066</td>\n",
       "      <td>42019</td>\n",
       "    </tr>\n",
       "    <tr>\n",
       "      <th>29</th>\n",
       "      <td>55286</td>\n",
       "      <td>299</td>\n",
       "      <td>14505</td>\n",
       "    </tr>\n",
       "    <tr>\n",
       "      <th>...</th>\n",
       "      <td>...</td>\n",
       "      <td>...</td>\n",
       "      <td>...</td>\n",
       "    </tr>\n",
       "    <tr>\n",
       "      <th>131966</th>\n",
       "      <td>43284</td>\n",
       "      <td>3348</td>\n",
       "      <td>5683</td>\n",
       "    </tr>\n",
       "    <tr>\n",
       "      <th>131967</th>\n",
       "      <td>29880</td>\n",
       "      <td>1112</td>\n",
       "      <td>9805</td>\n",
       "    </tr>\n",
       "    <tr>\n",
       "      <th>131968</th>\n",
       "      <td>40797</td>\n",
       "      <td>2565</td>\n",
       "      <td>9558</td>\n",
       "    </tr>\n",
       "    <tr>\n",
       "      <th>131969</th>\n",
       "      <td>52920</td>\n",
       "      <td>458</td>\n",
       "      <td>4854</td>\n",
       "    </tr>\n",
       "    <tr>\n",
       "      <th>131970</th>\n",
       "      <td>58232</td>\n",
       "      <td>400</td>\n",
       "      <td>6588</td>\n",
       "    </tr>\n",
       "    <tr>\n",
       "      <th>131971</th>\n",
       "      <td>25112</td>\n",
       "      <td>4598</td>\n",
       "      <td>35792</td>\n",
       "    </tr>\n",
       "    <tr>\n",
       "      <th>131972</th>\n",
       "      <td>42510</td>\n",
       "      <td>1238</td>\n",
       "      <td>13587</td>\n",
       "    </tr>\n",
       "    <tr>\n",
       "      <th>131973</th>\n",
       "      <td>57335</td>\n",
       "      <td>2638</td>\n",
       "      <td>11225</td>\n",
       "    </tr>\n",
       "    <tr>\n",
       "      <th>131974</th>\n",
       "      <td>37991</td>\n",
       "      <td>935</td>\n",
       "      <td>24039</td>\n",
       "    </tr>\n",
       "    <tr>\n",
       "      <th>131975</th>\n",
       "      <td>62965</td>\n",
       "      <td>3826</td>\n",
       "      <td>10903</td>\n",
       "    </tr>\n",
       "    <tr>\n",
       "      <th>131976</th>\n",
       "      <td>31655</td>\n",
       "      <td>782</td>\n",
       "      <td>12335</td>\n",
       "    </tr>\n",
       "    <tr>\n",
       "      <th>131977</th>\n",
       "      <td>44772</td>\n",
       "      <td>5422</td>\n",
       "      <td>15591</td>\n",
       "    </tr>\n",
       "    <tr>\n",
       "      <th>131978</th>\n",
       "      <td>29860</td>\n",
       "      <td>1131</td>\n",
       "      <td>10657</td>\n",
       "    </tr>\n",
       "    <tr>\n",
       "      <th>131979</th>\n",
       "      <td>41648</td>\n",
       "      <td>940</td>\n",
       "      <td>5068</td>\n",
       "    </tr>\n",
       "    <tr>\n",
       "      <th>131980</th>\n",
       "      <td>47656</td>\n",
       "      <td>643</td>\n",
       "      <td>13867</td>\n",
       "    </tr>\n",
       "    <tr>\n",
       "      <th>131981</th>\n",
       "      <td>32158</td>\n",
       "      <td>2442</td>\n",
       "      <td>27327</td>\n",
       "    </tr>\n",
       "    <tr>\n",
       "      <th>131982</th>\n",
       "      <td>30769</td>\n",
       "      <td>1418</td>\n",
       "      <td>27470</td>\n",
       "    </tr>\n",
       "    <tr>\n",
       "      <th>131983</th>\n",
       "      <td>59657</td>\n",
       "      <td>1558</td>\n",
       "      <td>8822</td>\n",
       "    </tr>\n",
       "    <tr>\n",
       "      <th>131984</th>\n",
       "      <td>70037</td>\n",
       "      <td>326</td>\n",
       "      <td>10921</td>\n",
       "    </tr>\n",
       "    <tr>\n",
       "      <th>131985</th>\n",
       "      <td>33737</td>\n",
       "      <td>3632</td>\n",
       "      <td>8837</td>\n",
       "    </tr>\n",
       "    <tr>\n",
       "      <th>131986</th>\n",
       "      <td>46206</td>\n",
       "      <td>730</td>\n",
       "      <td>12381</td>\n",
       "    </tr>\n",
       "    <tr>\n",
       "      <th>131987</th>\n",
       "      <td>54327</td>\n",
       "      <td>1370</td>\n",
       "      <td>6941</td>\n",
       "    </tr>\n",
       "    <tr>\n",
       "      <th>131988</th>\n",
       "      <td>62638</td>\n",
       "      <td>8343</td>\n",
       "      <td>10139</td>\n",
       "    </tr>\n",
       "    <tr>\n",
       "      <th>131989</th>\n",
       "      <td>29342</td>\n",
       "      <td>3729</td>\n",
       "      <td>28933</td>\n",
       "    </tr>\n",
       "    <tr>\n",
       "      <th>131990</th>\n",
       "      <td>24060</td>\n",
       "      <td>6422</td>\n",
       "      <td>28759</td>\n",
       "    </tr>\n",
       "    <tr>\n",
       "      <th>131991</th>\n",
       "      <td>27540</td>\n",
       "      <td>2709</td>\n",
       "      <td>40952</td>\n",
       "    </tr>\n",
       "    <tr>\n",
       "      <th>131992</th>\n",
       "      <td>30790</td>\n",
       "      <td>2464</td>\n",
       "      <td>37650</td>\n",
       "    </tr>\n",
       "    <tr>\n",
       "      <th>131993</th>\n",
       "      <td>37265</td>\n",
       "      <td>1672</td>\n",
       "      <td>7719</td>\n",
       "    </tr>\n",
       "    <tr>\n",
       "      <th>131994</th>\n",
       "      <td>46656</td>\n",
       "      <td>517</td>\n",
       "      <td>6854</td>\n",
       "    </tr>\n",
       "    <tr>\n",
       "      <th>131995</th>\n",
       "      <td>25891</td>\n",
       "      <td>3297</td>\n",
       "      <td>27602</td>\n",
       "    </tr>\n",
       "  </tbody>\n",
       "</table>\n",
       "<p>131996 rows × 3 columns</p>\n",
       "</div>"
      ],
      "text/plain": [
       "        start_time  t_trip  t_sep\n",
       "0            31080    2845  27935\n",
       "1            27188     788  31234\n",
       "2              597    1446  53341\n",
       "3            33647     393  14728\n",
       "4            24196    4156  29122\n",
       "5            27924    1589  32499\n",
       "6            32222    2370  34310\n",
       "7            26032    1517  35975\n",
       "8            27496    2175  33938\n",
       "9            31828    1364  34310\n",
       "10           28965     500  44293\n",
       "11           28800     801  32619\n",
       "12           30249    3861  36545\n",
       "13           22490     275  32939\n",
       "14           31920    1040  27640\n",
       "15           25811    1020  38796\n",
       "16           31393    1118  31757\n",
       "17           33162    1590  37767\n",
       "18           38425    1545  25835\n",
       "19           27660     730  27350\n",
       "20           27840     904  35216\n",
       "21           34200     790  31816\n",
       "22           24852    1428  34950\n",
       "23           38100    2124  28356\n",
       "24           40226     714  12974\n",
       "25           31068    1033  38204\n",
       "26           27050    1588  27804\n",
       "27           31433    2073  31801\n",
       "28           34002    1066  42019\n",
       "29           55286     299  14505\n",
       "...            ...     ...    ...\n",
       "131966       43284    3348   5683\n",
       "131967       29880    1112   9805\n",
       "131968       40797    2565   9558\n",
       "131969       52920     458   4854\n",
       "131970       58232     400   6588\n",
       "131971       25112    4598  35792\n",
       "131972       42510    1238  13587\n",
       "131973       57335    2638  11225\n",
       "131974       37991     935  24039\n",
       "131975       62965    3826  10903\n",
       "131976       31655     782  12335\n",
       "131977       44772    5422  15591\n",
       "131978       29860    1131  10657\n",
       "131979       41648     940   5068\n",
       "131980       47656     643  13867\n",
       "131981       32158    2442  27327\n",
       "131982       30769    1418  27470\n",
       "131983       59657    1558   8822\n",
       "131984       70037     326  10921\n",
       "131985       33737    3632   8837\n",
       "131986       46206     730  12381\n",
       "131987       54327    1370   6941\n",
       "131988       62638    8343  10139\n",
       "131989       29342    3729  28933\n",
       "131990       24060    6422  28759\n",
       "131991       27540    2709  40952\n",
       "131992       30790    2464  37650\n",
       "131993       37265    1672   7719\n",
       "131994       46656     517   6854\n",
       "131995       25891    3297  27602\n",
       "\n",
       "[131996 rows x 3 columns]"
      ]
     },
     "execution_count": 12,
     "metadata": {},
     "output_type": "execute_result"
    }
   ],
   "source": [
    "drop_result"
   ]
  },
  {
   "cell_type": "code",
   "execution_count": 13,
   "metadata": {
    "scrolled": true
   },
   "outputs": [
    {
     "data": {
      "image/png": "[encoded data removed]",
      "text/plain": [
       "<matplotlib.figure.Figure at 0x1b18d5b2358>"
      ]
     },
     "metadata": {},
     "output_type": "display_data"
    },
    {
     "data": {
      "text/plain": [
       "<matplotlib.figure.Figure at 0x1b18d5b2518>"
      ]
     },
     "metadata": {},
     "output_type": "display_data"
    }
   ],
   "source": [
    "g = sns.heatmap(data[[\"n_transfer\",\"start_time\",\"bus\",\"subway\",\n",
    "                      \"rer\",\"tramway\",\"t_trip\",\"t_sep\",\"day_start\",\"day_end\"]].corr(),annot=True, fmt = \".2f\", cmap = \"coolwarm\")\n",
    "plt.figure(figsize=(15,5))\n",
    "plt.show()"
   ]
  },
  {
   "cell_type": "code",
   "execution_count": 14,
   "metadata": {},
   "outputs": [
    {
     "data": {
      "image/png": "[encoded data removed]",
      "text/plain": [
       "<matplotlib.figure.Figure at 0x1b18d5b2898>"
      ]
     },
     "metadata": {},
     "output_type": "display_data"
    },
    {
     "data": {
      "text/plain": [
       "<matplotlib.figure.Figure at 0x1b18d5b2940>"
      ]
     },
     "metadata": {},
     "output_type": "display_data"
    }
   ],
   "source": [
    "g = sns.heatmap(drop_result[[\"start_time\",\"t_trip\",\"t_sep\"]].corr(),annot=True, fmt = \".2f\", cmap = \"coolwarm\")\n",
    "plt.figure(figsize=(15,5))\n",
    "plt.show()"
   ]
  },
  {
   "cell_type": "code",
   "execution_count": 15,
   "metadata": {
    "collapsed": true
   },
   "outputs": [],
   "source": [
    "x = np.array(data).astype(float)"
   ]
  },
  {
   "cell_type": "code",
   "execution_count": 16,
   "metadata": {
    "collapsed": true
   },
   "outputs": [],
   "source": [
    "x_2 =  np.array(drop_result).astype(float)"
   ]
  },
  {
   "cell_type": "code",
   "execution_count": 17,
   "metadata": {
    "collapsed": true
   },
   "outputs": [],
   "source": [
    "x = preprocessing.scale(x) "
   ]
  },
  {
   "cell_type": "code",
   "execution_count": 18,
   "metadata": {
    "collapsed": true
   },
   "outputs": [],
   "source": [
    "x_2 = preprocessing.scale(x_2)"
   ]
  },
  {
   "cell_type": "code",
   "execution_count": 14,
   "metadata": {
    "collapsed": true
   },
   "outputs": [],
   "source": [
    "pca = PCA(n_components=2)\n",
    "newdata = pca.fit_transform(data)"
   ]
  },
  {
   "cell_type": "code",
   "execution_count": 15,
   "metadata": {},
   "outputs": [
    {
     "data": {
      "text/plain": [
       "array([ 6013.30746806,  1108.57526287])"
      ]
     },
     "execution_count": 15,
     "metadata": {},
     "output_type": "execute_result"
    }
   ],
   "source": [
    "newdata[0]"
   ]
  },
  {
   "cell_type": "code",
   "execution_count": 16,
   "metadata": {},
   "outputs": [
    {
     "data": {
      "image/png": "[encoded data removed]",
      "text/plain": [
       "<matplotlib.figure.Figure at 0x19270eb0b00>"
      ]
     },
     "metadata": {},
     "output_type": "display_data"
    }
   ],
   "source": [
    "plt.scatter(newdata[:,0], newdata[:,1], s=10)\n",
    "plt.show()"
   ]
  },
  {
   "cell_type": "code",
   "execution_count": 19,
   "metadata": {},
   "outputs": [
    {
     "data": {
      "text/plain": [
       "2"
      ]
     },
     "execution_count": 19,
     "metadata": {},
     "output_type": "execute_result"
    }
   ],
   "source": [
    "get_best_k(x_2, 9)"
   ]
  },
  {
   "cell_type": "code",
   "execution_count": 20,
   "metadata": {
    "collapsed": true
   },
   "outputs": [],
   "source": [
    "y_pre = KMeans(n_clusters=6).fit_predict(x)"
   ]
  },
  {
   "cell_type": "code",
   "execution_count": 24,
   "metadata": {
    "collapsed": true
   },
   "outputs": [],
   "source": [
    "y_2_pre = KMeans(n_clusters=2).fit_predict(x_2)"
   ]
  },
  {
   "cell_type": "code",
   "execution_count": 21,
   "metadata": {},
   "outputs": [
    {
     "data": {
      "text/plain": [
       "{0: 8757, 1: 46168, 2: 24572, 3: 5065, 4: 22122, 5: 25312}"
      ]
     },
     "execution_count": 21,
     "metadata": {},
     "output_type": "execute_result"
    }
   ],
   "source": [
    "get_counts(y_pre)\n"
   ]
  },
  {
   "cell_type": "code",
   "execution_count": 22,
   "metadata": {
    "collapsed": true
   },
   "outputs": [],
   "source": [
    "data['type'] = y_pre"
   ]
  },
  {
   "cell_type": "code",
   "execution_count": 25,
   "metadata": {},
   "outputs": [],
   "source": [
    "drop_result['type'] = y_2_pre"
   ]
  },
  {
   "cell_type": "code",
   "execution_count": 26,
   "metadata": {},
   "outputs": [
    {
     "data": {
      "image/png": "[encoded data removed]",
      "text/plain": [
       "<matplotlib.figure.Figure at 0x1b18de5fcc0>"
      ]
     },
     "metadata": {},
     "output_type": "display_data"
    },
    {
     "data": {
      "image/png": "[encoded data removed]",
      "text/plain": [
       "<matplotlib.figure.Figure at 0x1b18e1cfa20>"
      ]
     },
     "metadata": {},
     "output_type": "display_data"
    }
   ],
   "source": [
    "drop_0 = drop_result[drop_result['type'] == 0]\n",
    "drop_1 = drop_result[drop_result['type'] == 1]\n",
    "drop_mean = drop_result.mean()\n",
    "drop_0_mean = drop_0.mean()\n",
    "drop_1_mean = drop_1.mean()\n",
    "plt.bar(get_bar_dic(drop_0_mean,3, drop_mean).keys(),get_bar_dic(drop_0_mean,3,drop_mean).values(), label='type 0')\n",
    "plt.xticks(rotation = 90)\n",
    "plt.legend(loc=\"upper right\")\n",
    "plt.show()\n",
    "plt.bar(get_bar_dic(drop_1_mean,3, drop_mean).keys(),get_bar_dic(drop_1_mean,3,drop_mean).values(), label='type 1')\n",
    "plt.xticks(rotation = 90)\n",
    "plt.legend(loc=\"upper right\")\n",
    "plt.show()"
   ]
  },
  {
   "cell_type": "code",
   "execution_count": 27,
   "metadata": {},
   "outputs": [
    {
     "data": {
      "text/plain": [
       "start_time    29580.996817\n",
       "t_trip         1806.253889\n",
       "t_sep         31842.496755\n",
       "type              0.000000\n",
       "dtype: float64"
      ]
     },
     "execution_count": 27,
     "metadata": {},
     "output_type": "execute_result"
    }
   ],
   "source": [
    "drop_0_mean"
   ]
  },
  {
   "cell_type": "code",
   "execution_count": 16,
   "metadata": {
    "collapsed": true
   },
   "outputs": [],
   "source": [
    "data_type_0 = data[data['type'] == 0]"
   ]
  },
  {
   "cell_type": "code",
   "execution_count": 17,
   "metadata": {
    "collapsed": true
   },
   "outputs": [],
   "source": [
    "data_type_1 = data[data['type'] == 1]"
   ]
  },
  {
   "cell_type": "code",
   "execution_count": 18,
   "metadata": {
    "collapsed": true
   },
   "outputs": [],
   "source": [
    "data_type_2 = data[data['type'] == 2]"
   ]
  },
  {
   "cell_type": "code",
   "execution_count": 19,
   "metadata": {
    "collapsed": true
   },
   "outputs": [],
   "source": [
    "data_type_3 = data[data['type'] == 3]"
   ]
  },
  {
   "cell_type": "code",
   "execution_count": 20,
   "metadata": {
    "collapsed": true
   },
   "outputs": [],
   "source": [
    "data_type_4 = data[data['type'] == 4]"
   ]
  },
  {
   "cell_type": "code",
   "execution_count": 21,
   "metadata": {
    "collapsed": true
   },
   "outputs": [],
   "source": [
    "data_type_5 = data[data['type'] == 5]"
   ]
  },
  {
   "cell_type": "code",
   "execution_count": 22,
   "metadata": {
    "collapsed": true
   },
   "outputs": [],
   "source": [
    "data_mean = data.mean()"
   ]
  },
  {
   "cell_type": "code",
   "execution_count": 23,
   "metadata": {
    "collapsed": true
   },
   "outputs": [],
   "source": [
    "data_0_mean = data_type_0.mean()\n",
    "data_1_mean = data_type_1.mean()\n",
    "data_2_mean = data_type_2.mean()\n",
    "data_3_mean = data_type_3.mean()\n",
    "data_4_mean = data_type_4.mean()\n",
    "data_5_mean = data_type_5.mean()"
   ]
  },
  {
   "cell_type": "code",
   "execution_count": 26,
   "metadata": {},
   "outputs": [
    {
     "data": {
      "text/plain": [
       "n_transfer        1.393243\n",
       "start_time    30522.626812\n",
       "bus               0.124260\n",
       "subway            0.248295\n",
       "rer               1.020687\n",
       "tramway           0.000000\n",
       "t_trip         2235.606306\n",
       "t_sep         28593.058946\n",
       "day_start     29168.625593\n",
       "day_end       65875.757893\n",
       "type              0.000000\n",
       "dtype: float64"
      ]
     },
     "execution_count": 26,
     "metadata": {},
     "output_type": "execute_result"
    }
   ],
   "source": [
    "data_0_mean"
   ]
  },
  {
   "cell_type": "code",
   "execution_count": 27,
   "metadata": {},
   "outputs": [
    {
     "data": {
      "image/png": "[encoded data removed]",
      "text/plain": [
       "<matplotlib.figure.Figure at 0x1d58f0376a0>"
      ]
     },
     "metadata": {},
     "output_type": "display_data"
    },
    {
     "data": {
      "image/png": "[encoded data removed]",
      "text/plain": [
       "<matplotlib.figure.Figure at 0x1d58ef99710>"
      ]
     },
     "metadata": {},
     "output_type": "display_data"
    },
    {
     "data": {
      "image/png": "[encoded data removed]",
      "text/plain": [
       "<matplotlib.figure.Figure at 0x1d58f11df98>"
      ]
     },
     "metadata": {},
     "output_type": "display_data"
    },
    {
     "data": {
      "image/png": "[encoded data removed]",
      "text/plain": [
       "<matplotlib.figure.Figure at 0x1d58f08a828>"
      ]
     },
     "metadata": {},
     "output_type": "display_data"
    },
    {
     "data": {
      "image/png": "[encoded data removed]",
      "text/plain": [
       "<matplotlib.figure.Figure at 0x1d58f234f28>"
      ]
     },
     "metadata": {},
     "output_type": "display_data"
    },
    {
     "data": {
      "image/png": "[encoded data removed]",
      "text/plain": [
       "<matplotlib.figure.Figure at 0x1d58f204fd0>"
      ]
     },
     "metadata": {},
     "output_type": "display_data"
    }
   ],
   "source": [
    "plt.bar(get_bar_dic(data_0_mean).keys(),get_bar_dic(data_0_mean).values(), label='type 0')\n",
    "plt.xticks(rotation = 90)\n",
    "plt.legend(loc=\"upper right\")\n",
    "plt.show()\n",
    "plt.bar(get_bar_dic(data_1_mean).keys(),get_bar_dic(data_1_mean).values(), label='type 1')\n",
    "plt.xticks(rotation = 90)\n",
    "plt.legend(loc=\"upper right\")\n",
    "plt.show()\n",
    "plt.bar(get_bar_dic(data_2_mean).keys(),get_bar_dic(data_2_mean).values(), label='type 2')\n",
    "plt.xticks(rotation = 90)\n",
    "plt.legend(loc=\"upper right\")\n",
    "plt.show()\n",
    "plt.bar(get_bar_dic(data_3_mean).keys(),get_bar_dic(data_3_mean).values(), label='type 3')\n",
    "plt.xticks(rotation = 90)\n",
    "plt.legend(loc=\"upper right\")\n",
    "plt.show()\n",
    "plt.bar(get_bar_dic(data_4_mean).keys(),get_bar_dic(data_4_mean).values(), label='type 4')\n",
    "plt.xticks(rotation = 90)\n",
    "plt.legend(loc=\"upper right\")\n",
    "plt.show()\n",
    "plt.bar(get_bar_dic(data_5_mean).keys(),get_bar_dic(data_5_mean).values(), label='type 5')\n",
    "plt.xticks(rotation = 90)\n",
    "plt.legend(loc=\"upper right\")\n",
    "plt.show()"
   ]
  }
 ],
 "metadata": {
  "kernelspec": {
   "display_name": "Python 3",
   "language": "python",
   "name": "python3"
  },
  "language_info": {
   "codemirror_mode": {
    "name": "ipython",
    "version": 3
   },
   "file_extension": ".py",
   "mimetype": "text/x-python",
   "name": "python",
   "nbconvert_exporter": "python",
   "pygments_lexer": "ipython3",
   "version": "3.6.3"
  }
 },
 "nbformat": 4,
 "nbformat_minor": 2
}
